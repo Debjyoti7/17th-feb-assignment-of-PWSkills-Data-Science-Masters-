{
 "cells": [
  {
   "cell_type": "markdown",
   "id": "96fcf2ec-fb25-4397-9bc2-ba98c4c8ba7e",
   "metadata": {},
   "source": [
    "# Q1. What is MongoDB? Explain non-relational databases in short. In which scenarios it is preferred to use MongoDB over SQL databases?"
   ]
  },
  {
   "cell_type": "markdown",
   "id": "34ad6503-48a4-4f41-bfc7-d6c1d0cb86da",
   "metadata": {},
   "source": [
    "## MongoDB is a popular document-oriented NoSQL database that stores data in JSON-like documents with dynamic schemas. It is an open-source, high-performance, horizontally scalable, and flexible database system that can handle a wide range of data types and data structures.\n",
    "\n",
    "## Non-relational databases, also known as NoSQL databases, are database systems that do not use the traditional relational data model used by SQL databases. Instead, they use various data models, including document-based, key-value, column-family, and graph-based models. NoSQL databases are designed to handle large volumes of unstructured and semi-structured data that do not fit well into the rigid schema of SQL databases.\n",
    "\n",
    "## There are several scenarios where MongoDB is preferred over SQL databases:\n",
    "\n",
    "### 1. Handling unstructured and semi-structured data: MongoDB is well-suited for storing unstructured data, such as documents, images, and multimedia files, which may not fit well into the fixed schema of SQL databases.\n",
    "\n",
    "### 2. High scalability and performance: MongoDB is designed to be horizontally scalable, which means that it can handle high volumes of data and traffic by adding more nodes to the database cluster. It is also known for its high performance and low latency, making it ideal for real-time applications.\n",
    "\n",
    "### 3. Agile development: MongoDB's dynamic schema allows developers to easily modify the database structure as needed, without requiring extensive changes to the application code.\n",
    "\n",
    "### 4. Cloud-based applications: MongoDB is well-suited for cloud-based applications due to its ability to scale horizontally and its integration with various cloud platforms.\n",
    "\n",
    "### 5. Big data and analytics: MongoDB's ability to handle large volumes of data and its support for advanced analytics and aggregation make it well-suited for big data applications.\n",
    "\n",
    "## Overall, MongoDB is a popular choice for developers who need a flexible, scalable, and high-performance database system to handle a wide range of data types and data structures.\n",
    "\n",
    "\n",
    "\n"
   ]
  },
  {
   "cell_type": "markdown",
   "id": "515deaca-5fce-42be-b303-0ff8bacd8578",
   "metadata": {},
   "source": [
    "# Q2. State and Explain the features of MongoDB."
   ]
  },
  {
   "cell_type": "markdown",
   "id": "4d332f74-3c04-40f5-be80-800ff44d76f0",
   "metadata": {},
   "source": [
    "## MongoDB is a popular NoSQL document-based database system with several unique features that make it well-suited for modern application development. Here are some of the key features of MongoDB:\n",
    "\n",
    "### 1. Document-oriented data model: MongoDB stores data in JSON-like documents with dynamic schemas, which makes it flexible and allows for easy modification of the data structure.\n",
    "\n",
    "### 2. Scalability: MongoDB is designed to be horizontally scalable, which means that it can handle large volumes of data and traffic by adding more nodes to the database cluster.\n",
    "\n",
    "### 3. High performance: MongoDB's architecture and indexing features make it highly performant and low-latency, making it ideal for real-time applications.\n",
    "\n",
    "### 4. Indexing and querying: MongoDB provides a range of indexing and querying options that allow developers to efficiently search and retrieve data from the database.\n",
    "\n",
    "### 5. Aggregation and analytics: MongoDB supports advanced aggregation and analytics features that make it well-suited for big data applications.\n",
    "\n",
    "### 6. Flexible data model: MongoDB's flexible data model allows developers to store data of any structure and type, including arrays, nested documents, and geospatial data.\n",
    "\n",
    "### 7. Replication and high availability: MongoDB provides built-in replication and high availability features that allow for automatic failover and data redundancy.\n",
    "\n",
    "### 8. Security: MongoDB supports advanced security features such as authentication, authorization, and SSL encryption to protect the database and data from unauthorized access.\n",
    "\n",
    "### 9. Cloud integration: MongoDB integrates with various cloud platforms and can be easily deployed and scaled in cloud environments.\n",
    "\n",
    "### 10. Open source: MongoDB is an open-source database system, which means that it is free to use and can be customized and extended as needed.\n",
    "\n",
    "## Overall, MongoDB's features make it a popular choice for developers who need a flexible, scalable, and high-performance database system to handle a wide range of data types and data structures."
   ]
  },
  {
   "cell_type": "markdown",
   "id": "abca0c47-7734-4025-ae23-432cb3202990",
   "metadata": {},
   "source": [
    "# Q3. Write a code to connect MongoDB to Python. Also, create a database and a collection in MongoDB."
   ]
  },
  {
   "cell_type": "code",
   "execution_count": null,
   "id": "b48c1b16-3f07-4930-8450-fcebad4414fb",
   "metadata": {},
   "outputs": [],
   "source": [
    "# Importing the pymongo library\n",
    "import pymongo\n",
    "\n",
    "# Creating a client instance to connect to MongoDB server\n",
    "client = pymongo.MongoClient(\"mongodb://localhost:27017/\")\n",
    "\n",
    "# Creating a database in MongoDB\n",
    "mydb = client[\"mydatabase\"]\n",
    "\n",
    "# Creating a collection in the database\n",
    "mycol = mydb[\"customers\"]"
   ]
  },
  {
   "cell_type": "markdown",
   "id": "b3670d28-fc11-47ae-8766-e2de18f24eaa",
   "metadata": {},
   "source": [
    "## Next, we create a database called 'mydatabase' using the 'client' instance. If the database doesn't exist, MongoDB will create it automatically when we first write data to it.\n",
    "\n",
    "## Finally, we create a collection called customers in the 'mydatabase' database using the mydb instance. If the collection doesn't exist, MongoDB will create it automatically when we first write data to it."
   ]
  },
  {
   "cell_type": "markdown",
   "id": "475d2c3c-8775-4d65-884c-0749d628e9f9",
   "metadata": {},
   "source": [
    "# Q4. Using the database and the collection created in question number 3, write a code to insert one record, and insert many records. Use the find() and find_one() methods to print the inserted record."
   ]
  },
  {
   "cell_type": "code",
   "execution_count": null,
   "id": "9ee2bb61-69a6-404d-8216-2ae9bbed889b",
   "metadata": {},
   "outputs": [],
   "source": [
    "# Importing the pymongo library\n",
    "import pymongo\n",
    "\n",
    "# Creating a client instance to connect to MongoDB server\n",
    "client = pymongo.MongoClient(\"mongodb://localhost:27017/\")\n",
    "\n",
    "# Creating a database in MongoDB\n",
    "mydb = client[\"mydatabase\"]\n",
    "\n",
    "# Creating a collection in the database\n",
    "mycol = mydb[\"customers\"]\n",
    "\n",
    "# Inserting one record into the collection\n",
    "record1 = { \"name\": \"Debjyoti\", \"address\": \"West Bengal\", \"age\": 25 }\n",
    "mycol.insert_one(record1)\n",
    "\n",
    "# Inserting multiple records into the collection\n",
    "records = [\n",
    "  { \"name\": \"A\", \"address\": \"U.P.\", \"age\": 25 },\n",
    "  { \"name\": \"B\", \"address\": \"Delhi\", \"age\": 40 },\n",
    "  { \"name\": \"C\", \"address\": \"Kerala\", \"age\": 35 }\n",
    "]\n",
    "mycol.insert_many(records)\n",
    "\n",
    "# Printing the inserted records using the find() method\n",
    "for record in mycol.find():\n",
    "  print(record)\n",
    "\n",
    "# Printing the first inserted record using the find_one() method\n",
    "first_record = mycol.find_one()\n",
    "print(first_record)"
   ]
  },
  {
   "cell_type": "markdown",
   "id": "3e6487e4-20e1-4fb9-8f9f-2a95bafb546e",
   "metadata": {},
   "source": [
    "# Q5. Explain how you can use the find() method to query the MongoDB database. Write a simple code to demonstrate this."
   ]
  },
  {
   "cell_type": "markdown",
   "id": "aebb9efa-b1a0-4af6-8719-d48335e4d940",
   "metadata": {},
   "source": [
    "## The find() method in MongoDB is used to query the database and retrieve documents from a collection that match the specified criteria. The find() method takes an optional parameter, which is an object containing the query criteria."
   ]
  },
  {
   "cell_type": "code",
   "execution_count": null,
   "id": "d1881175-ab14-449b-a2b6-bb180fc9eb8a",
   "metadata": {},
   "outputs": [],
   "source": [
    "# Importing the pymongo library\n",
    "import pymongo\n",
    "\n",
    "# Creating a client instance to connect to MongoDB server\n",
    "client = pymongo.MongoClient(\"mongodb://localhost:27017/\")\n",
    "\n",
    "# Creating a database in MongoDB\n",
    "mydb = client[\"mydatabase\"]\n",
    "\n",
    "# Creating a collection in the database\n",
    "mycol = mydb[\"customers\"]\n",
    "\n",
    "# Querying the collection using the find() method\n",
    "query = { \"age\": { \"$gt\": 30 } }\n",
    "results = mycol.find(query)\n",
    "\n",
    "# Printing the results of the query\n",
    "for result in results:\n",
    "  print(result)"
   ]
  },
  {
   "cell_type": "markdown",
   "id": "3cf54b19-466d-426d-b9a9-aa6cbbc5ed1a",
   "metadata": {},
   "source": [
    "## In this code, we first connect to the MongoDB server, create a database called mydatabase, and create a collection called customers, as we did in the previous examples.\n",
    "\n",
    "## Then we have to use the find() method to query the customers collection, with the query criteria set to retrieve documents where the age field is greater than 30. We store the results of the query in a variable called results.\n",
    "\n",
    "## Finally, we loop through the results variable and print each document that matches the query criteria."
   ]
  },
  {
   "cell_type": "markdown",
   "id": "e33ba3b0-a351-4e85-b063-33ab8028b0d5",
   "metadata": {},
   "source": [
    "# Q6. Explain the sort() method. Give an example to demonstrate sorting in MongoDB."
   ]
  },
  {
   "cell_type": "markdown",
   "id": "b74e1197-126e-40e0-af47-550bc2767adc",
   "metadata": {},
   "source": [
    "## The sort() method in MongoDB is used to sort the documents in a collection based on one or more fields. The sort() method takes an optional parameter, which is an object containing the sort criteria."
   ]
  },
  {
   "cell_type": "code",
   "execution_count": null,
   "id": "9e417a42-0c09-4de7-8958-c2a2aa9d259b",
   "metadata": {},
   "outputs": [],
   "source": [
    "# Importing the pymongo library\n",
    "import pymongo\n",
    "\n",
    "# Creating a client instance to connect to MongoDB server\n",
    "client = pymongo.MongoClient(\"mongodb://localhost:27017/\")\n",
    "\n",
    "# Creating a database in MongoDB\n",
    "mydb = client[\"mydatabase\"]\n",
    "\n",
    "# Creating a collection in the database\n",
    "mycol = mydb[\"customers\"]\n",
    "\n",
    "# Sorting the collection using the sort() method\n",
    "results = mycol.find().sort(\"name\")\n",
    "\n",
    "# Printing the results of the query\n",
    "for result in results:\n",
    "  print(result)\n"
   ]
  },
  {
   "cell_type": "markdown",
   "id": "799bb6d4-534d-4d7e-8e47-bda740a78362",
   "metadata": {},
   "source": [
    "## In this code, we first connect to the MongoDB server, create a database called mydatabase, and create a collection called customers, as we did in the previous examples.\n",
    "\n",
    "## We then use the find() method to retrieve all the documents in the customers collection, and apply the sort() method to sort the documents in ascending order based on the name field. We store the results of the query in a variable called results.\n",
    "\n",
    "## Finally, we loop through the results variable and print each document in the sorted order."
   ]
  },
  {
   "cell_type": "markdown",
   "id": "efd0a394-7912-4f0b-8a11-d8225e71a23d",
   "metadata": {},
   "source": [
    "# Q7. Explain why delete_one(), delete_many(), and drop() is used."
   ]
  },
  {
   "cell_type": "code",
   "execution_count": null,
   "id": "e4f3392c-1d19-41a4-8579-dfb988a754f5",
   "metadata": {},
   "outputs": [],
   "source": []
  },
  {
   "cell_type": "code",
   "execution_count": null,
   "id": "bd5fa4f2-b166-4b4e-ae6c-447d92962b4a",
   "metadata": {},
   "outputs": [],
   "source": []
  }
 ],
 "metadata": {
  "kernelspec": {
   "display_name": "Python 3 (ipykernel)",
   "language": "python",
   "name": "python3"
  },
  "language_info": {
   "codemirror_mode": {
    "name": "ipython",
    "version": 3
   },
   "file_extension": ".py",
   "mimetype": "text/x-python",
   "name": "python",
   "nbconvert_exporter": "python",
   "pygments_lexer": "ipython3",
   "version": "3.10.8"
  }
 },
 "nbformat": 4,
 "nbformat_minor": 5
}
